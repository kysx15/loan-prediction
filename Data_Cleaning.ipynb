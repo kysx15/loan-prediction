{
 "cells": [
  {
   "cell_type": "code",
   "execution_count": 1,
   "id": "7090f535",
   "metadata": {},
   "outputs": [
    {
     "name": "stdout",
     "output_type": "stream",
     "text": [
      "Requirement already satisfied: category_encoders in c:\\users\\sekar\\anaconda3\\lib\\site-packages (2.6.0)\n",
      "Requirement already satisfied: numpy>=1.14.0 in c:\\users\\sekar\\anaconda3\\lib\\site-packages (from category_encoders) (1.21.5)\n",
      "Requirement already satisfied: scikit-learn>=0.20.0 in c:\\users\\sekar\\anaconda3\\lib\\site-packages (from category_encoders) (1.0.2)\n",
      "Requirement already satisfied: scipy>=1.0.0 in c:\\users\\sekar\\anaconda3\\lib\\site-packages (from category_encoders) (1.9.1)\n",
      "Requirement already satisfied: patsy>=0.5.1 in c:\\users\\sekar\\anaconda3\\lib\\site-packages (from category_encoders) (0.5.2)\n",
      "Requirement already satisfied: statsmodels>=0.9.0 in c:\\users\\sekar\\anaconda3\\lib\\site-packages (from category_encoders) (0.13.2)\n",
      "Requirement already satisfied: pandas>=1.0.5 in c:\\users\\sekar\\anaconda3\\lib\\site-packages (from category_encoders) (1.4.4)\n",
      "Requirement already satisfied: python-dateutil>=2.8.1 in c:\\users\\sekar\\anaconda3\\lib\\site-packages (from pandas>=1.0.5->category_encoders) (2.8.2)\n",
      "Requirement already satisfied: pytz>=2020.1 in c:\\users\\sekar\\anaconda3\\lib\\site-packages (from pandas>=1.0.5->category_encoders) (2022.1)\n",
      "Requirement already satisfied: six in c:\\users\\sekar\\anaconda3\\lib\\site-packages (from patsy>=0.5.1->category_encoders) (1.16.0)\n",
      "Requirement already satisfied: threadpoolctl>=2.0.0 in c:\\users\\sekar\\anaconda3\\lib\\site-packages (from scikit-learn>=0.20.0->category_encoders) (2.2.0)\n",
      "Requirement already satisfied: joblib>=0.11 in c:\\users\\sekar\\anaconda3\\lib\\site-packages (from scikit-learn>=0.20.0->category_encoders) (1.1.0)\n",
      "Requirement already satisfied: packaging>=21.3 in c:\\users\\sekar\\anaconda3\\lib\\site-packages (from statsmodels>=0.9.0->category_encoders) (21.3)\n",
      "Requirement already satisfied: pyparsing!=3.0.5,>=2.0.2 in c:\\users\\sekar\\anaconda3\\lib\\site-packages (from packaging>=21.3->statsmodels>=0.9.0->category_encoders) (3.0.9)\n"
     ]
    }
   ],
   "source": [
    "# Basic Libraries\n",
    "import numpy as np\n",
    "import pandas as pd\n",
    "import seaborn as sb\n",
    "import matplotlib.pyplot as plt\n",
    "sb.set() # set the default Seaborn style for graphics\n",
    "\n",
    "# Data visualisation\n",
    "import sklearn.metrics as metrics\n",
    "import scipy.stats as stats\n",
    "\n",
    "!pip install --upgrade category_encoders\n",
    "# Encoding\n",
    "import category_encoders as ce\n",
    "\n",
    "# Upscaling\n",
    "from sklearn.utils import resample\n",
    "\n",
    "# Machine learning\n",
    "from sklearn.model_selection import train_test_split as split\n",
    "from sklearn.model_selection import KFold,StratifiedKFold\n",
    "from sklearn.tree import plot_tree\n",
    "from sklearn.metrics import confusion_matrix\n",
    "from sklearn.preprocessing import LabelBinarizer, LabelEncoder\n",
    "from sklearn.tree import DecisionTreeClassifier, export_graphviz\n",
    "from sklearn.metrics import classification_report\n",
    "from sklearn.ensemble import RandomForestClassifier\n",
    "from sklearn.model_selection import GridSearchCV"
   ]
  },
  {
   "cell_type": "markdown",
   "id": "225be2d7",
   "metadata": {},
   "source": [
    "## Import and Read Dataset"
   ]
  },
  {
   "cell_type": "markdown",
   "id": "e29bfb7a",
   "metadata": {},
   "source": [
    "In this section, we will be importing our two csv datasets: credit_record.csv which contains status the target variable and application_record.csv which contains the variables used to predict status. We will also be visualising the number, type and name of the various variables in both datasets."
   ]
  },
  {
   "cell_type": "code",
   "execution_count": 2,
   "id": "cb1b38c3",
   "metadata": {},
   "outputs": [],
   "source": [
    "# Getting Datasets\n",
    "pd.set_option(\"display.max_rows\", 50)\n",
    "cr = pd.read_csv(\"credit_record.csv\")\n",
    "ar = pd.read_csv(\"application_record.csv\")"
   ]
  },
  {
   "cell_type": "code",
   "execution_count": 3,
   "id": "b4a19602",
   "metadata": {},
   "outputs": [
    {
     "name": "stdout",
     "output_type": "stream",
     "text": [
      "              ID  MONTHS_BALANCE STATUS\n",
      "0        5001711               0      X\n",
      "1        5001711              -1      0\n",
      "2        5001711              -2      0\n",
      "3        5001711              -3      0\n",
      "4        5001712               0      C\n",
      "...          ...             ...    ...\n",
      "1048570  5150487             -25      C\n",
      "1048571  5150487             -26      C\n",
      "1048572  5150487             -27      C\n",
      "1048573  5150487             -28      C\n",
      "1048574  5150487             -29      C\n",
      "\n",
      "[1048575 rows x 3 columns]\n"
     ]
    }
   ],
   "source": [
    "# Viewing credit record\n",
    "print(cr)"
   ]
  },
  {
   "cell_type": "code",
   "execution_count": 4,
   "id": "06c1d880",
   "metadata": {},
   "outputs": [
    {
     "name": "stdout",
     "output_type": "stream",
     "text": [
      "<class 'pandas.core.frame.DataFrame'>\n",
      "RangeIndex: 1048575 entries, 0 to 1048574\n",
      "Data columns (total 3 columns):\n",
      " #   Column          Non-Null Count    Dtype \n",
      "---  ------          --------------    ----- \n",
      " 0   ID              1048575 non-null  int64 \n",
      " 1   MONTHS_BALANCE  1048575 non-null  int64 \n",
      " 2   STATUS          1048575 non-null  object\n",
      "dtypes: int64(2), object(1)\n",
      "memory usage: 24.0+ MB\n"
     ]
    }
   ],
   "source": [
    "# Getting info of credit record\n",
    "cr.info()"
   ]
  },
  {
   "cell_type": "code",
   "execution_count": 5,
   "id": "ea7309eb",
   "metadata": {},
   "outputs": [
    {
     "name": "stdout",
     "output_type": "stream",
     "text": [
      "             ID CODE_GENDER FLAG_OWN_CAR FLAG_OWN_REALTY  CNT_CHILDREN  \\\n",
      "0       5008804           M            Y               Y             0   \n",
      "1       5008805           M            Y               Y             0   \n",
      "2       5008806           M            Y               Y             0   \n",
      "3       5008808           F            N               Y             0   \n",
      "4       5008809           F            N               Y             0   \n",
      "...         ...         ...          ...             ...           ...   \n",
      "438552  6840104           M            N               Y             0   \n",
      "438553  6840222           F            N               N             0   \n",
      "438554  6841878           F            N               N             0   \n",
      "438555  6842765           F            N               Y             0   \n",
      "438556  6842885           F            N               Y             0   \n",
      "\n",
      "        AMT_INCOME_TOTAL      NAME_INCOME_TYPE            NAME_EDUCATION_TYPE  \\\n",
      "0               427500.0               Working               Higher education   \n",
      "1               427500.0               Working               Higher education   \n",
      "2               112500.0               Working  Secondary / secondary special   \n",
      "3               270000.0  Commercial associate  Secondary / secondary special   \n",
      "4               270000.0  Commercial associate  Secondary / secondary special   \n",
      "...                  ...                   ...                            ...   \n",
      "438552          135000.0             Pensioner  Secondary / secondary special   \n",
      "438553          103500.0               Working  Secondary / secondary special   \n",
      "438554           54000.0  Commercial associate               Higher education   \n",
      "438555           72000.0             Pensioner  Secondary / secondary special   \n",
      "438556          121500.0               Working  Secondary / secondary special   \n",
      "\n",
      "          NAME_FAMILY_STATUS  NAME_HOUSING_TYPE  DAYS_BIRTH  DAYS_EMPLOYED  \\\n",
      "0             Civil marriage   Rented apartment      -12005          -4542   \n",
      "1             Civil marriage   Rented apartment      -12005          -4542   \n",
      "2                    Married  House / apartment      -21474          -1134   \n",
      "3       Single / not married  House / apartment      -19110          -3051   \n",
      "4       Single / not married  House / apartment      -19110          -3051   \n",
      "...                      ...                ...         ...            ...   \n",
      "438552             Separated  House / apartment      -22717         365243   \n",
      "438553  Single / not married  House / apartment      -15939          -3007   \n",
      "438554  Single / not married       With parents       -8169           -372   \n",
      "438555               Married  House / apartment      -21673         365243   \n",
      "438556               Married  House / apartment      -18858          -1201   \n",
      "\n",
      "        FLAG_MOBIL  FLAG_WORK_PHONE  FLAG_PHONE  FLAG_EMAIL OCCUPATION_TYPE  \\\n",
      "0                1                1           0           0             NaN   \n",
      "1                1                1           0           0             NaN   \n",
      "2                1                0           0           0  Security staff   \n",
      "3                1                0           1           1     Sales staff   \n",
      "4                1                0           1           1     Sales staff   \n",
      "...            ...              ...         ...         ...             ...   \n",
      "438552           1                0           0           0             NaN   \n",
      "438553           1                0           0           0        Laborers   \n",
      "438554           1                1           0           0     Sales staff   \n",
      "438555           1                0           0           0             NaN   \n",
      "438556           1                0           1           0     Sales staff   \n",
      "\n",
      "        CNT_FAM_MEMBERS  \n",
      "0                   2.0  \n",
      "1                   2.0  \n",
      "2                   2.0  \n",
      "3                   1.0  \n",
      "4                   1.0  \n",
      "...                 ...  \n",
      "438552              1.0  \n",
      "438553              1.0  \n",
      "438554              1.0  \n",
      "438555              2.0  \n",
      "438556              2.0  \n",
      "\n",
      "[438557 rows x 18 columns]\n"
     ]
    }
   ],
   "source": [
    "# Viewing application record\n",
    "print(ar)"
   ]
  },
  {
   "cell_type": "code",
   "execution_count": 6,
   "id": "8c2c2090",
   "metadata": {},
   "outputs": [
    {
     "name": "stdout",
     "output_type": "stream",
     "text": [
      "<class 'pandas.core.frame.DataFrame'>\n",
      "RangeIndex: 438557 entries, 0 to 438556\n",
      "Data columns (total 18 columns):\n",
      " #   Column               Non-Null Count   Dtype  \n",
      "---  ------               --------------   -----  \n",
      " 0   ID                   438557 non-null  int64  \n",
      " 1   CODE_GENDER          438557 non-null  object \n",
      " 2   FLAG_OWN_CAR         438557 non-null  object \n",
      " 3   FLAG_OWN_REALTY      438557 non-null  object \n",
      " 4   CNT_CHILDREN         438557 non-null  int64  \n",
      " 5   AMT_INCOME_TOTAL     438557 non-null  float64\n",
      " 6   NAME_INCOME_TYPE     438557 non-null  object \n",
      " 7   NAME_EDUCATION_TYPE  438557 non-null  object \n",
      " 8   NAME_FAMILY_STATUS   438557 non-null  object \n",
      " 9   NAME_HOUSING_TYPE    438557 non-null  object \n",
      " 10  DAYS_BIRTH           438557 non-null  int64  \n",
      " 11  DAYS_EMPLOYED        438557 non-null  int64  \n",
      " 12  FLAG_MOBIL           438557 non-null  int64  \n",
      " 13  FLAG_WORK_PHONE      438557 non-null  int64  \n",
      " 14  FLAG_PHONE           438557 non-null  int64  \n",
      " 15  FLAG_EMAIL           438557 non-null  int64  \n",
      " 16  OCCUPATION_TYPE      304354 non-null  object \n",
      " 17  CNT_FAM_MEMBERS      438557 non-null  float64\n",
      "dtypes: float64(2), int64(8), object(8)\n",
      "memory usage: 60.2+ MB\n"
     ]
    }
   ],
   "source": [
    "# Getting info of application record\n",
    "ar.info()"
   ]
  },
  {
   "cell_type": "code",
   "execution_count": 7,
   "id": "6053c9a5",
   "metadata": {},
   "outputs": [
    {
     "data": {
      "text/plain": [
       "<seaborn.axisgrid.FacetGrid at 0x1284c9eaf40>"
      ]
     },
     "execution_count": 7,
     "metadata": {},
     "output_type": "execute_result"
    },
    {
     "data": {
      "image/png": "[encoded data removed]",
      "text/plain": [
       "<Figure size 500x500 with 1 Axes>"
      ]
     },
     "metadata": {},
     "output_type": "display_data"
    }
   ],
   "source": [
    "# Visualising Status\n",
    "sb.catplot(y=\"STATUS\",data= cr,kind=\"count\")"
   ]
  },
  {
   "cell_type": "markdown",
   "id": "bc0cc94f",
   "metadata": {},
   "source": [
    "## Data Cleaning"
   ]
  },
  {
   "cell_type": "markdown",
   "id": "f765c7c7",
   "metadata": {},
   "source": [
    "In this section, we will be making changes to the variable Status to fit our problem statment as well as combine and average out Status such that there are no repeated IDs. We will also be combining the two datasets and remove all the different ID in the process using masking."
   ]
  },
  {
   "cell_type": "code",
   "execution_count": 8,
   "id": "812272f9",
   "metadata": {},
   "outputs": [],
   "source": [
    "# Replacing the values in STATUS\n",
    "cr['STATUS'].replace(['0'], 1 ,inplace= True) # 1-29 days past due\n",
    "cr['STATUS'].replace(['1'], 1,inplace= True) # 30-59 days past due\n",
    "cr['STATUS'].replace(['2'], 1 ,inplace= True) # 60-89 days overdue\n",
    "cr['STATUS'].replace(['3'], 1,inplace= True) # 90-119 days overdue\n",
    "cr['STATUS'].replace(['4'], 1 ,inplace= True) # 120-149 days overdue\n",
    "cr['STATUS'].replace(['5'], 1,inplace= True) # Overdue or bad debts, write-offs for more than 150 days\n",
    "cr['STATUS'].replace(['C'], 0,inplace= True) # Loan paid off for that month\n",
    "cr['STATUS'].replace(['X'], 0,inplace= True) # No loan for the month"
   ]
  },
  {
   "cell_type": "code",
   "execution_count": 9,
   "id": "e72abf7a",
   "metadata": {},
   "outputs": [
    {
     "data": {
      "image/png": "[encoded data removed]",
      "text/plain": [
       "<Figure size 500x500 with 1 Axes>"
      ]
     },
     "metadata": {},
     "output_type": "display_data"
    }
   ],
   "source": [
    "# Visualising the changes in Status\n",
    "sb.catplot(y=\"STATUS\",data= cr,kind=\"count\")\n",
    "plt.show()"
   ]
  },
  {
   "cell_type": "code",
   "execution_count": 10,
   "id": "d6542966",
   "metadata": {},
   "outputs": [
    {
     "name": "stdout",
     "output_type": "stream",
     "text": [
      "<class 'pandas.core.frame.DataFrame'>\n",
      "RangeIndex: 1048575 entries, 0 to 1048574\n",
      "Data columns (total 3 columns):\n",
      " #   Column          Non-Null Count    Dtype\n",
      "---  ------          --------------    -----\n",
      " 0   ID              1048575 non-null  int64\n",
      " 1   MONTHS_BALANCE  1048575 non-null  int64\n",
      " 2   STATUS          1048575 non-null  int64\n",
      "dtypes: int64(3)\n",
      "memory usage: 24.0 MB\n"
     ]
    }
   ],
   "source": [
    "# Changing datatype of STATUS in cr\n",
    "cr['STATUS'] = cr['STATUS'].astype('int64')\n",
    "# Checking if change has been made\n",
    "cr.info()"
   ]
  },
  {
   "cell_type": "code",
   "execution_count": 11,
   "id": "1b445be8",
   "metadata": {},
   "outputs": [],
   "source": [
    "# Filling the NULL valus in Occupation Type in ar\n",
    "ar['OCCUPATION_TYPE'].fillna(value=\"NA\", inplace= True)"
   ]
  },
  {
   "cell_type": "code",
   "execution_count": 12,
   "id": "3153cb28",
   "metadata": {},
   "outputs": [],
   "source": [
    "# Combining all the repeated IDs and averaging out STATUS\n",
    "cr = cr.groupby(['ID'])['STATUS'].agg('mean')"
   ]
  },
  {
   "cell_type": "code",
   "execution_count": 13,
   "id": "1938e4b6",
   "metadata": {},
   "outputs": [
    {
     "name": "stdout",
     "output_type": "stream",
     "text": [
      "            ID  STATUS CODE_GENDER FLAG_OWN_CAR FLAG_OWN_REALTY  CNT_CHILDREN  \\\n",
      "0      5008804     1.0           M            Y               Y             0   \n",
      "1      5008805     1.0           M            Y               Y             0   \n",
      "2      5008806     1.0           M            Y               Y             0   \n",
      "3      5008808     1.0           F            N               Y             0   \n",
      "4      5008809     0.0           F            N               Y             0   \n",
      "...        ...     ...         ...          ...             ...           ...   \n",
      "36452  5150482     1.0           F            Y               Y             1   \n",
      "36453  5150483     0.0           F            Y               Y             1   \n",
      "36454  5150484     1.0           F            Y               Y             1   \n",
      "36455  5150485     1.0           F            Y               Y             1   \n",
      "36456  5150487     0.0           M            Y               N             0   \n",
      "\n",
      "       AMT_INCOME_TOTAL      NAME_INCOME_TYPE            NAME_EDUCATION_TYPE  \\\n",
      "0              427500.0               Working               Higher education   \n",
      "1              427500.0               Working               Higher education   \n",
      "2              112500.0               Working  Secondary / secondary special   \n",
      "3              270000.0  Commercial associate  Secondary / secondary special   \n",
      "4              270000.0  Commercial associate  Secondary / secondary special   \n",
      "...                 ...                   ...                            ...   \n",
      "36452          157500.0               Working  Secondary / secondary special   \n",
      "36453          157500.0               Working  Secondary / secondary special   \n",
      "36454          157500.0               Working  Secondary / secondary special   \n",
      "36455          157500.0               Working  Secondary / secondary special   \n",
      "36456          202500.0               Working  Secondary / secondary special   \n",
      "\n",
      "         NAME_FAMILY_STATUS  NAME_HOUSING_TYPE  DAYS_BIRTH  DAYS_EMPLOYED  \\\n",
      "0            Civil marriage   Rented apartment      -12005          -4542   \n",
      "1            Civil marriage   Rented apartment      -12005          -4542   \n",
      "2                   Married  House / apartment      -21474          -1134   \n",
      "3      Single / not married  House / apartment      -19110          -3051   \n",
      "4      Single / not married  House / apartment      -19110          -3051   \n",
      "...                     ...                ...         ...            ...   \n",
      "36452               Married  House / apartment      -10808          -1739   \n",
      "36453               Married  House / apartment      -10808          -1739   \n",
      "36454               Married  House / apartment      -10808          -1739   \n",
      "36455               Married  House / apartment      -10808          -1739   \n",
      "36456               Married  House / apartment      -19398          -2166   \n",
      "\n",
      "       FLAG_MOBIL  FLAG_WORK_PHONE  FLAG_PHONE  FLAG_EMAIL OCCUPATION_TYPE  \\\n",
      "0               1                1           0           0              NA   \n",
      "1               1                1           0           0              NA   \n",
      "2               1                0           0           0  Security staff   \n",
      "3               1                0           1           1     Sales staff   \n",
      "4               1                0           1           1     Sales staff   \n",
      "...           ...              ...         ...         ...             ...   \n",
      "36452           1                0           0           0      Core staff   \n",
      "36453           1                0           0           0      Core staff   \n",
      "36454           1                0           0           0      Core staff   \n",
      "36455           1                0           0           0      Core staff   \n",
      "36456           1                0           0           0         Drivers   \n",
      "\n",
      "       CNT_FAM_MEMBERS  \n",
      "0                  2.0  \n",
      "1                  2.0  \n",
      "2                  2.0  \n",
      "3                  1.0  \n",
      "4                  1.0  \n",
      "...                ...  \n",
      "36452              3.0  \n",
      "36453              3.0  \n",
      "36454              3.0  \n",
      "36455              3.0  \n",
      "36456              2.0  \n",
      "\n",
      "[36457 rows x 19 columns]\n"
     ]
    }
   ],
   "source": [
    "# merging the 2 dataframes and removing all different IDs\n",
    "merged_df = pd.merge(cr, ar, on=\"ID\", how=\"inner\")\n",
    "# Rounding up STATUS to whole nummber\n",
    "merged_df[\"STATUS\"] = np.ceil(merged_df[\"STATUS\"])\n",
    "print(merged_df)"
   ]
  },
  {
   "cell_type": "code",
   "execution_count": 14,
   "id": "845eb059",
   "metadata": {},
   "outputs": [
    {
     "data": {
      "image/png": "[encoded data removed]",
      "text/plain": [
       "<Figure size 500x500 with 1 Axes>"
      ]
     },
     "metadata": {},
     "output_type": "display_data"
    }
   ],
   "source": [
    "# Seeing the distrubution of data for STATUS\n",
    "sb.catplot(y=\"STATUS\",data= merged_df,kind=\"count\")\n",
    "plt.show()"
   ]
  },
  {
   "cell_type": "code",
   "execution_count": 15,
   "id": "2bd7b744",
   "metadata": {},
   "outputs": [
    {
     "data": {
      "text/plain": [
       "1.0    32002\n",
       "0.0     4455\n",
       "Name: STATUS, dtype: int64"
      ]
     },
     "execution_count": 15,
     "metadata": {},
     "output_type": "execute_result"
    }
   ],
   "source": [
    "merged_df['STATUS'].value_counts()"
   ]
  },
  {
   "cell_type": "code",
   "execution_count": 16,
   "id": "6ae7c830",
   "metadata": {},
   "outputs": [],
   "source": [
    "merged_df.to_csv('cleaned_dataset.csv')"
   ]
  }
 ],
 "metadata": {
  "kernelspec": {
   "display_name": "Python 3 (ipykernel)",
   "language": "python",
   "name": "python3"
  },
  "language_info": {
   "codemirror_mode": {
    "name": "ipython",
    "version": 3
   },
   "file_extension": ".py",
   "mimetype": "text/x-python",
   "name": "python",
   "nbconvert_exporter": "python",
   "pygments_lexer": "ipython3",
   "version": "3.9.13"
  }
 },
 "nbformat": 4,
 "nbformat_minor": 5
}
